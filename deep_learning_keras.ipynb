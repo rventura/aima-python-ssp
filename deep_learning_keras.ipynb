{
 "cells": [
  {
   "cell_type": "markdown",
   "id": "363b778d-368f-49da-9250-ca0428db4d6b",
   "metadata": {},
   "source": [
    "# Deep learning example\n",
    "* Author: Rodrigo Ventura\n",
    "* Date: June 2024\n",
    "\n",
    "This notebook shows an example of using a neural network to train a classifier for the [MNIST digit dataset](https://en.wikipedia.org/wiki/MNIST_database). The neural network is implented using the [Keras package](https://keras.io/). This example is based on [this](https://keras.io/examples/vision/image_classification_from_scratch/) and [this](https://keras.io/examples/vision/mnist_convnet/) tutorial from Keras.\n",
    "\n",
    "## Import required packages"
   ]
  },
  {
   "cell_type": "code",
   "execution_count": null,
   "id": "5e27a5f9-7594-4202-9527-83c1545b85b8",
   "metadata": {},
   "outputs": [],
   "source": [
    "import os\n",
    "import numpy as np\n",
    "import matplotlib.pyplot as plt\n",
    "\n",
    "# Default seems to be tensorflow on macOS\n",
    "# To change, set:\n",
    "#os.environ[\"KERAS_BACKEND\"] = \"jax\"\n",
    "# Note that Keras should only be imported after the backend\n",
    "# has been configured. The backend cannot be changed once the\n",
    "# package is imported.\n",
    "\n",
    "import keras"
   ]
  },
  {
   "cell_type": "markdown",
   "id": "ebcfa06b-07da-4ed5-b6da-928307817d25",
   "metadata": {},
   "source": [
    "## Load the MNIST dataset and prepare the data\n",
    "\n",
    "1. load the dataset\n",
    "2. normalize pixels to the [0,1] interval\n",
    "3. reshape dataset to arrays [index, height, width, channel=1]"
   ]
  },
  {
   "cell_type": "code",
   "execution_count": null,
   "id": "136cacbf-c504-4f69-91b3-4fffde1bc96f",
   "metadata": {},
   "outputs": [],
   "source": [
    "# Load the data and split it between train and test sets\n",
    "(x_train, y_train), (x_test, y_test) = keras.datasets.mnist.load_data()\n",
    "\n",
    "# Scale images to the [0, 1] range\n",
    "x_train = x_train.astype(\"float32\") / 255\n",
    "x_test = x_test.astype(\"float32\") / 255\n",
    "# Make sure images have shape (28, 28, 1)\n",
    "x_train = np.expand_dims(x_train, -1)\n",
    "x_test = np.expand_dims(x_test, -1)\n",
    "print(\"x_train shape:\", x_train.shape)\n",
    "print(\"y_train shape:\", y_train.shape)\n",
    "print(x_train.shape[0], \"train samples\")\n",
    "print(x_test.shape[0], \"test samples\")"
   ]
  },
  {
   "cell_type": "markdown",
   "id": "3f0ffe9c-65a2-4862-97be-a4ef16bbcd68",
   "metadata": {},
   "source": [
    "## Show a few images from the dataset\n",
    "\n",
    "Each image is labeled with the true class (i.e., ground truth)."
   ]
  },
  {
   "cell_type": "code",
   "execution_count": null,
   "id": "4fa9d65c-1af9-4577-9a4a-eac1776b4652",
   "metadata": {},
   "outputs": [],
   "source": [
    "plt.figure(figsize=(10, 10))\n",
    "for i in range(9):\n",
    "        ax = plt.subplot(3, 3, i + 1)\n",
    "        plt.imshow(np.array(x_train[i,:,:,0]), cmap=\"Greys_r\")\n",
    "        plt.title(int(y_train[i]))\n",
    "        plt.axis(\"off\")"
   ]
  },
  {
   "cell_type": "markdown",
   "id": "5c732a49-7a6a-4f91-b4cf-c12c390d1574",
   "metadata": {},
   "source": [
    "## Create neural network model\n",
    "\n",
    "First, setup basic parameters:\n",
    "* number of classes (0, ..., 9)\n",
    "* shape of each data point (height, width, channels=1)"
   ]
  },
  {
   "cell_type": "code",
   "execution_count": null,
   "id": "642455a3-6f62-4abe-ae47-024150433457",
   "metadata": {},
   "outputs": [],
   "source": [
    "# Model parameters\n",
    "num_classes = 10\n",
    "input_shape = (28, 28, 1)"
   ]
  },
  {
   "cell_type": "markdown",
   "id": "28542966-4b15-4f9a-bc1f-52188089cea9",
   "metadata": {},
   "source": [
    "Below there are a few models to play with. Check [this page](https://keras.io/api/layers/) for documentation on the repertoire of layers.\n",
    "\n",
    "This is the original model from the Keras tutorial:"
   ]
  },
  {
   "cell_type": "code",
   "execution_count": null,
   "id": "c732a9d2-29b7-46ff-9038-8b8601c87cb4",
   "metadata": {},
   "outputs": [],
   "source": [
    "model = keras.Sequential(\n",
    "    [\n",
    "        keras.layers.Input(shape=input_shape),\n",
    "        keras.layers.Conv2D(64, kernel_size=(3, 3), activation=\"relu\"),\n",
    "        keras.layers.Conv2D(64, kernel_size=(3, 3), activation=\"relu\"),\n",
    "        keras.layers.MaxPooling2D(pool_size=(2, 2)),\n",
    "        keras.layers.Conv2D(128, kernel_size=(3, 3), activation=\"relu\"),\n",
    "        keras.layers.Conv2D(128, kernel_size=(3, 3), activation=\"relu\"),\n",
    "        keras.layers.GlobalAveragePooling2D(),\n",
    "        keras.layers.Dropout(0.5),\n",
    "        keras.layers.Dense(num_classes, activation=\"softmax\"),\n",
    "    ]\n",
    ")"
   ]
  },
  {
   "cell_type": "markdown",
   "id": "e4cf909d-bf44-40e7-aa11-720cc13da2e3",
   "metadata": {},
   "source": [
    "This is a perception for each class, the simplest neural network:"
   ]
  },
  {
   "cell_type": "code",
   "execution_count": null,
   "id": "42028a47-8295-491f-bda0-3792c1ca7679",
   "metadata": {},
   "outputs": [],
   "source": [
    "model = keras.Sequential(\n",
    "    [\n",
    "        keras.layers.Input(shape=input_shape),\n",
    "        keras.layers.Flatten(),\n",
    "        keras.layers.Dense(num_classes, activation=\"softmax\"),\n",
    "    ]\n",
    ")"
   ]
  },
  {
   "cell_type": "markdown",
   "id": "ea529dae-4fda-433f-ad69-d99716674cf9",
   "metadata": {},
   "source": [
    "## Show structure of the created model"
   ]
  },
  {
   "cell_type": "code",
   "execution_count": null,
   "id": "f2b50802-df0f-4978-90a6-5f6753a684c4",
   "metadata": {},
   "outputs": [],
   "source": [
    "model.summary()"
   ]
  },
  {
   "cell_type": "markdown",
   "id": "72e19e60-164d-4a0f-b4f4-d31039c63cb0",
   "metadata": {},
   "source": [
    "## Trainning of the model\n",
    "\n",
    "First, compile the model, defining:\n",
    "1. the loss function (categorical cross-entropy)\n",
    "2. the optimizer (ADAM)\n",
    "3. the performance metric (categorical accuracy)"
   ]
  },
  {
   "cell_type": "code",
   "execution_count": null,
   "id": "4fa603e0-8f63-478f-8626-81968276781a",
   "metadata": {},
   "outputs": [],
   "source": [
    "model.compile(\n",
    "    loss=keras.losses.SparseCategoricalCrossentropy(),\n",
    "    optimizer=keras.optimizers.Adam(learning_rate=1e-3),\n",
    "    metrics=[\n",
    "        keras.metrics.SparseCategoricalAccuracy(name=\"acc\"),\n",
    "    ],\n",
    ")"
   ]
  },
  {
   "cell_type": "markdown",
   "id": "37777115-8164-4e3e-a31d-8c41c95b239d",
   "metadata": {},
   "source": [
    "Next, perform the training itself, configured by:\n",
    "1. batch size -- how many data points are used for each gradient step)\n",
    "2. number of epochs -- how many epochs (an epoch means going through all data points)"
   ]
  },
  {
   "cell_type": "code",
   "execution_count": null,
   "id": "852475bf-b2e9-4ea6-ae3b-fb38de4c9972",
   "metadata": {},
   "outputs": [],
   "source": [
    "batch_size = 128\n",
    "epochs = 20\n",
    "\n",
    "callbacks = [\n",
    "    keras.callbacks.ModelCheckpoint(filepath=\"model_at_epoch_{epoch}.keras\"),\n",
    "    keras.callbacks.EarlyStopping(monitor=\"val_loss\", patience=2),\n",
    "]\n",
    "\n",
    "model.fit(\n",
    "    x_train,\n",
    "    y_train,\n",
    "    batch_size=batch_size,\n",
    "    epochs=epochs,\n",
    "    validation_split=0.15,\n",
    "    callbacks=callbacks,\n",
    ")"
   ]
  },
  {
   "cell_type": "markdown",
   "id": "cd4a4113-99ac-4a1b-8a4d-2f32e139bdbd",
   "metadata": {},
   "source": [
    "## Load/save model\n",
    "\n",
    "(optional) Use one of the cells below to save or to load the model to/from disk."
   ]
  },
  {
   "cell_type": "code",
   "execution_count": null,
   "id": "c74ffe6f-e296-45d6-a096-168c2e83816d",
   "metadata": {},
   "outputs": [],
   "source": [
    "model.save(\"final_model.keras\")"
   ]
  },
  {
   "cell_type": "code",
   "execution_count": null,
   "id": "dceb73ff-db64-4748-a98d-94fb50920926",
   "metadata": {},
   "outputs": [],
   "source": [
    "model = keras.saving.load_model(\"final_model.keras\")"
   ]
  },
  {
   "cell_type": "markdown",
   "id": "c068f493-a3bc-4a17-a510-9bcc0e46ecc0",
   "metadata": {},
   "source": [
    "## Evaluate the performance of the model on the test set\n",
    "\n",
    "* the value of the loss function on the test set\n",
    "* the accuracy on the test set (1=100)"
   ]
  },
  {
   "cell_type": "code",
   "execution_count": null,
   "id": "6e2d4e45-e44d-4473-956a-22d16cd75e94",
   "metadata": {},
   "outputs": [],
   "source": [
    "score = model.evaluate(x_test, y_test, verbose=0)\n",
    "print(\"Test loss:\", score[0])\n",
    "print(\"Test accuracy:\", score[1])"
   ]
  },
  {
   "cell_type": "markdown",
   "id": "2cc64308-fefe-4c75-a730-4c4225d88759",
   "metadata": {},
   "source": [
    "## Show the classification of a few test data points"
   ]
  },
  {
   "cell_type": "code",
   "execution_count": null,
   "id": "aa990d25-1810-4f85-b189-788a472f314d",
   "metadata": {},
   "outputs": [],
   "source": [
    "plt.figure(figsize=(10, 10))\n",
    "predictions = model.predict(x_test[0:9])\n",
    "y = predictions.argmax(axis=1)\n",
    "for (i,p) in zip(range(9),y):\n",
    "        ax = plt.subplot(3, 3, i + 1)\n",
    "        plt.imshow(np.array(x_test[i,:,:,0]))\n",
    "        plt.title(f\"true={y_test[i]} pred={p}\")\n",
    "        plt.axis(\"off\")"
   ]
  },
  {
   "cell_type": "markdown",
   "id": "9e60a31e-c100-4fa3-b6ca-9b4f836cd9ae",
   "metadata": {},
   "source": [
    "This finishes the example. Now go back and play with different network architectures. Have fun!"
   ]
  }
 ],
 "metadata": {
  "kernelspec": {
   "display_name": "Python 3 (ipykernel)",
   "language": "python",
   "name": "python3"
  },
  "language_info": {
   "codemirror_mode": {
    "name": "ipython",
    "version": 3
   },
   "file_extension": ".py",
   "mimetype": "text/x-python",
   "name": "python",
   "nbconvert_exporter": "python",
   "pygments_lexer": "ipython3",
   "version": "3.12.3"
  }
 },
 "nbformat": 4,
 "nbformat_minor": 5
}
